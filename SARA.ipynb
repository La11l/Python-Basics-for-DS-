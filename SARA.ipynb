{
 "cells": [
  {
   "cell_type": "code",
   "execution_count": 1,
   "metadata": {
    "collapsed": false
   },
   "outputs": [
    {
     "data": {
      "text/plain": [
       "True"
      ]
     },
     "execution_count": 1,
     "metadata": {
     },
     "output_type": "execute_result"
    }
   ],
   "source": [
    "i = 10\n",
    "i > 9"
   ]
  },
  {
   "cell_type": "code",
   "execution_count": 2,
   "metadata": {
    "collapsed": false
   },
   "outputs": [
    {
     "data": {
      "text/plain": [
       "False"
      ]
     },
     "execution_count": 2,
     "metadata": {
     },
     "output_type": "execute_result"
    }
   ],
   "source": [
    "i = 6\n",
    "i != 6"
   ]
  },
  {
   "cell_type": "code",
   "execution_count": 3,
   "metadata": {
    "collapsed": false
   },
   "outputs": [
    {
     "data": {
      "text/plain": [
       "True"
      ]
     },
     "execution_count": 3,
     "metadata": {
     },
     "output_type": "execute_result"
    }
   ],
   "source": [
    "'BA' > 'AB'\n"
   ]
  },
  {
   "cell_type": "code",
   "execution_count": 4,
   "metadata": {
    "collapsed": false
   },
   "outputs": [
    {
     "data": {
      "text/plain": [
       "False"
      ]
     },
     "execution_count": 4,
     "metadata": {
     },
     "output_type": "execute_result"
    }
   ],
   "source": [
    "\"ACDC\" == \"Michael Jackson\"\n"
   ]
  },
  {
   "cell_type": "code",
   "execution_count": 5,
   "metadata": {
    "collapsed": false
   },
   "outputs": [
    {
     "name": "stdout",
     "output_type": "stream",
     "text": [
      "you can enter\n",
      "move on\n"
     ]
    }
   ],
   "source": [
    "age = 30\n",
    "if age > 22:{\n",
    " \"cells\": [\n",
    "  {\n",
    "   \"cell_type\": \"code\",\n",
    "   \"execution_count\": 1,\n",
    "   \"metadata\": {\n",
    "    \"collapsed\": false\n",
    "   },\n",
    "   \"outputs\": [\n",
    "    {\n",
    "     \"data\": {\n",
    "      \"text/plain\": [\n",
    "       \"True\"\n",
    "      ]\n",
    "     },\n",
    "     \"execution_count\": 1,\n",
    "     \"metadata\": {\n",
    "     },\n",
    "     \"output_type\": \"execute_result\"\n",
    "    }\n",
    "   ],\n",
    "   \"source\": [\n",
    "    \"i = 10\\n\",\n",
    "    \"i > 9\"\n",
    "   ]\n",
    "  },\n",
    "  {\n",
    "   \"cell_type\": \"code\",\n",
    "   \"execution_count\": 2,\n",
    "   \"metadata\": {\n",
    "    \"collapsed\": false\n",
    "   },\n",
    "   \"outputs\": [\n",
    "    {\n",
    "     \"data\": {\n",
    "      \"text/plain\": [\n",
    "       \"False\"\n",
    "      ]\n",
    "     },\n",
    "     \"execution_count\": 2,\n",
    "     \"metadata\": {\n",
    "     },\n",
    "     \"output_type\": \"execute_result\"\n",
    "    }\n",
    "   ],\n",
    "   \"source\": [\n",
    "    \"i = 6\\n\",\n",
    "    \"i != 6\"\n",
    "   ]\n",
    "  },\n",
    "  {\n",
    "   \"cell_type\": \"code\",\n",
    "   \"execution_count\": 3,\n",
    "   \"metadata\": {\n",
    "    \"collapsed\": false\n",
    "   },\n",
    "   \"outputs\": [\n",
    "    {\n",
    "     \"data\": {\n",
    "      \"text/plain\": [\n",
    "       \"True\"\n",
    "      ]\n",
    "     },\n",
    "     \"execution_count\": 3,\n",
    "     \"metadata\": {\n",
    "     },\n",
    "     \"output_type\": \"execute_result\"\n",
    "    }\n",
    "   ],\n",
    "   \"source\": [\n",
    "    \"'BA' > 'AB'\\n\"\n",
    "   ]\n",
    "  },\n",
    "  {\n",
    "   \"cell_type\": \"code\",\n",
    "   \"execution_count\": 4,\n",
    "   \"metadata\": {\n",
    "    \"collapsed\": false\n",
    "   },\n",
    "   \"outputs\": [\n",
    "    {\n",
    "     \"data\": {\n",
    "      \"text/plain\": [\n",
    "       \"False\"\n",
    "      ]\n",
    "     },\n",
    "     \"execution_count\": 4,\n",
    "     \"metadata\": {\n",
    "     },\n",
    "     \"output_type\": \"execute_result\"\n",
    "    }\n",
    "   ],\n",
    "   \"source\": [\n",
    "    \"\\\"ACDC\\\" == \\\"Michael Jackson\\\"\\n\"\n",
    "   ]\n",
    "  },\n",
    "  {\n",
    "   \"cell_type\": \"code\",\n",
    "   \"execution_count\": 5,\n",
    "   \"metadata\": {\n",
    "    \"collapsed\": false\n",
    "   },\n",
    "   \"outputs\": [\n",
    "    {\n",
    "     \"name\": \"stdout\",\n",
    "     \"output_type\": \"stream\",\n",
    "     \"text\": [\n",
    "      \"you can enter\\n\",\n",
    "      \"move on\\n\"\n",
    "     ]\n",
    "    }\n",
    "   ],\n",
    "   \"source\": [\n",
    "    \"age = 30\\n\",\n",
    "    \"if age > 22:\\n\",\n",
    "    \" print(\\\"you can enter\\\" )\\n\",\n",
    "    \"elif age == 18:\\n\",\n",
    "    \" print(\\\"go see Pink Floyd\\\")\\n\",\n",
    "    \"else:\\n\",\n",
    "    \" print(\\\"go see Meat Loaf\\\" )\\n\",\n",
    "    \"\\n\",\n",
    "    \"print(\\\"move on\\\")\"\n",
    "   ]\n",
    "  },\n",
    "  {\n",
    "   \"cell_type\": \"code\",\n",
    "   \"execution_count\": 6,\n",
    "   \"metadata\": {\n",
    "    \"collapsed\": false\n",
    "   },\n",
    "   \"outputs\": [\n",
    "    {\n",
    "     \"name\": \"stdout\",\n",
    "     \"output_type\": \"stream\",\n",
    "     \"text\": [\n",
    "      \"Album was not made in the 1980's\\n\"\n",
    "     ]\n",
    "    }\n",
    "   ],\n",
    "   \"source\": [\n",
    "    \"album_year = 2005\\n\",\n",
    "    \"if(album_year < 2001) or (album_year > 1989):\\n\",\n",
    "    \" print (\\\"Album was not made in the 1980's\\\")\\n\",\n",
    "    \"else:\\n\",\n",
    "    \" print(\\\"The Album was made in the 1980's \\\")\"\n",
    "   ]\n",
    "  },\n",
    "  {\n",
    "   \"cell_type\": \"code\",\n",
    "   \"execution_count\": 15,\n",
    "   \"metadata\": {\n",
    "    \"collapsed\": false\n",
    "   },\n",
    "   \"outputs\": [\n",
    "    {\n",
    "     \"name\": \"stdout\",\n",
    "     \"output_type\": \"stream\",\n",
    "     \"text\": [\n",
    "      \"Album year is greater than 1980\\n\",\n",
    "      \"do something..\\n\"\n",
    "     ]\n",
    "    }\n",
    "   ],\n",
    "   \"source\": [\n",
    "    \"album_year = 2000\\n\",\n",
    "    \"if album_year > 1998:\\n\",\n",
    "    \" print(\\\"Album year is greater than 1980\\\")\\n\",\n",
    "    \"else:\\n\",\n",
    "    \" print(\\\"less than 1980\\\")\\n\",\n",
    "    \"print('do something..')\"\n",
    "   ]\n",
    "  },\n",
    "  {\n",
    "   \"cell_type\": \"code\",\n",
    "   \"execution_count\": 7,\n",
    "   \"metadata\": {\n",
    "    \"collapsed\": false\n",
    "   },\n",
    "   \"outputs\": [\n",
    "    {\n",
    "     \"name\": \"stdout\",\n",
    "     \"output_type\": \"stream\",\n",
    "     \"text\": [\n",
    "      \"\\n\",\n",
    "      \"Do Stuff..\\n\"\n",
    "     ]\n",
    "    }\n",
    "   ],\n",
    "   \"source\": [\n",
    "    \"album_year = 1999\\n\",\n",
    "    \"if(album_year > 1979) and (album_year < 1990):\\n\",\n",
    "    \" print (\\\"Album year was in between 1980 and 1989\\\")\\n\",\n",
    "    \"\\n\",\n",
    "    \"print(\\\"\\\")\\n\",\n",
    "    \"print(\\\"Do Stuff..\\\")\\n\"\n",
    "   ]\n",
    "  },\n",
    "  {\n",
    "   \"cell_type\": \"code\",\n",
    "   \"execution_count\": 8,\n",
    "   \"metadata\": {\n",
    "    \"collapsed\": false\n",
    "   },\n",
    "   \"outputs\": [\n",
    "    {\n",
    "     \"data\": {\n",
    "      \"text/plain\": [\n",
    "       \"range(0, 6)\"\n",
    "      ]\n",
    "     },\n",
    "     \"execution_count\": 8,\n",
    "     \"metadata\": {\n",
    "     },\n",
    "     \"output_type\": \"execute_result\"\n",
    "    }\n",
    "   ],\n",
    "   \"source\": [\n",
    "    \"range(6)\"\n",
    "   ]\n",
    "  },\n",
    "  {\n",
    "   \"cell_type\": \"code\",\n",
    "   \"execution_count\": 9,\n",
    "   \"metadata\": {\n",
    "    \"collapsed\": false\n",
    "   },\n",
    "   \"outputs\": [\n",
    "    {\n",
    "     \"name\": \"stdout\",\n",
    "     \"output_type\": \"stream\",\n",
    "     \"text\": [\n",
    "      \"2000\\n\",\n",
    "      \"1999\\n\",\n",
    "      \"1973\\n\"\n",
    "     ]\n",
    "    }\n",
    "   ],\n",
    "   \"source\": [\n",
    "    \"dates = [2000,1999,1973]\\n\",\n",
    "    \"N = len(dates)\\n\",\n",
    "    \"for i in range(N):\\n\",\n",
    "    \" print(dates[i])\"\n",
    "   ]\n",
    "  },\n",
    "  {\n",
    "   \"cell_type\": \"code\",\n",
    "   \"execution_count\": 10,\n",
    "   \"metadata\": {\n",
    "    \"collapsed\": false\n",
    "   },\n",
    "   \"outputs\": [\n",
    "    {\n",
    "     \"name\": \"stdout\",\n",
    "     \"output_type\": \"stream\",\n",
    "     \"text\": [\n",
    "      \"0\\n\",\n",
    "      \"1\\n\",\n",
    "      \"2\\n\",\n",
    "      \"3\\n\",\n",
    "      \"4\\n\",\n",
    "      \"5\\n\",\n",
    "      \"6\\n\",\n",
    "      \"7\\n\",\n",
    "      \"8\\n\",\n",
    "      \"9\\n\"\n",
    "     ]\n",
    "    }\n",
    "   ],\n",
    "   \"source\": [\n",
    "    \"for i in range(0, 10):\\n\",\n",
    "    \" print(i)\"\n",
    "   ]\n",
    "  },\n",
    "  {\n",
    "   \"cell_type\": \"code\",\n",
    "   \"execution_count\": 11,\n",
    "   \"metadata\": {\n",
    "    \"collapsed\": false\n",
    "   },\n",
    "   \"outputs\": [\n",
    "    {\n",
    "     \"name\": \"stdout\",\n",
    "     \"output_type\": \"stream\",\n",
    "     \"text\": [\n",
    "      \"Before square  0 is apple\\n\",\n",
    "      \"After square  0 is white\\n\",\n",
    "      \"Before square  1 is banana\\n\",\n",
    "      \"After square  1 is white\\n\",\n",
    "      \"Before square  2 is fig\\n\",\n",
    "      \"After square  2 is white\\n\",\n",
    "      \"Before square  3 is grape\\n\",\n",
    "      \"After square  3 is white\\n\",\n",
    "      \"Before square  4 is lime\\n\",\n",
    "      \"After square  4 is white\\n\",\n",
    "      \"Before square  5 is lemon\\n\",\n",
    "      \"After square  5 is white\\n\",\n",
    "      \"Before square  6 is orange\\n\",\n",
    "      \"After square  6 is white\\n\"\n",
    "     ]\n",
    "    }\n",
    "   ],\n",
    "   \"source\": [\n",
    "    \"squares = ['apple', 'banana', 'fig', 'grape', 'lime','lemon','orange']\\n\",\n",
    "    \"for i in range(0, 7):\\n\",\n",
    "    \" print(\\\"Before square \\\", i, 'is', squares[i])\\n\",\n",
    "    \" squares[i] = 'white'\\n\",\n",
    "    \" print(\\\"After square \\\", i, 'is', squares[i])\"\n",
    "   ]\n",
    "  },\n",
    "  {\n",
    "   \"cell_type\": \"code\",\n",
    "   \"execution_count\": 12,\n",
    "   \"metadata\": {\n",
    "    \"collapsed\": false\n",
    "   },\n",
    "   \"outputs\": [\n",
    "    {\n",
    "     \"name\": \"stdout\",\n",
    "     \"output_type\": \"stream\",\n",
    "     \"text\": [\n",
    "      \"10\\n\",\n",
    "      \"9.5\\n\"\n",
    "     ]\n",
    "    }\n",
    "   ],\n",
    "   \"source\": [\n",
    "    \"PlayListRatings = [10, 9.5, 8, 5, 7.5, 3, 7, 9]\\n\",\n",
    "    \"i = 0\\n\",\n",
    "    \"Rating = PlayListRatings[0]\\n\",\n",
    "    \"while(i < len(PlayListRatings) and Rating >= 10):\\n\",\n",
    "    \" Rating = PlayListRatings[i]\\n\",\n",
    "    \" print(Rating)\\n\",\n",
    "    \" i = i + 1\"\n",
    "   ]\n",
    "  },\n",
    "  {\n",
    "   \"cell_type\": \"code\",\n",
    "   \"execution_count\": 13,\n",
    "   \"metadata\": {\n",
    "    \"collapsed\": false\n",
    "   },\n",
    "   \"outputs\": [\n",
    "    {\n",
    "     \"name\": \"stdout\",\n",
    "     \"output_type\": \"stream\",\n",
    "     \"text\": [\n",
    "      \"It took  0 repetitions to get out of loop.\\n\"\n",
    "     ]\n",
    "    }\n",
    "   ],\n",
    "   \"source\": [\n",
    "    \"dates = [2000, 1999, 1998, 1997]\\n\",\n",
    "    \"i = 0\\n\",\n",
    "    \"year = dates[0]\\n\",\n",
    "    \"while(year != 2000):\\n\",\n",
    "    \" print(year)\\n\",\n",
    "    \" i = i + 1\\n\",\n",
    "    \" year = dates[i]\\n\",\n",
    "    \"\\n\",\n",
    "    \"print(\\\"It took \\\", i ,\\\"repetitions to get out of loop.\\\")\\n\"\n",
    "   ]\n",
    "  },\n",
    "  {\n",
    "   \"cell_type\": \"code\",\n",
    "   \"execution_count\": 0,\n",
    "   \"metadata\": {\n",
    "    \"collapsed\": false\n",
    "   },\n",
    "   \"outputs\": [\n",
    "   ],\n",
    "   \"source\": [\n",
    "   ]\n",
    "  },\n",
    "  {\n",
    "   \"cell_type\": \"code\",\n",
    "   \"execution_count\": 0,\n",
    "   \"metadata\": {\n",
    "    \"collapsed\": false\n",
    "   },\n",
    "   \"outputs\": [\n",
    "   ],\n",
    "   \"source\": [\n",
    "   ]\n",
    "  },\n",
    "  {\n",
    "   \"cell_type\": \"code\",\n",
    "   \"execution_count\": 0,\n",
    "   \"metadata\": {\n",
    "    \"collapsed\": false\n",
    "   },\n",
    "   \"outputs\": [\n",
    "   ],\n",
    "   \"source\": [\n",
    "   ]\n",
    "  }\n",
    " ],\n",
    " \"metadata\": {\n",
    "  \"kernelspec\": {\n",
    "   \"display_name\": \"Python 3 (Anaconda 2021)\",\n",
    "   \"env\": {\n",
    "    \"ADDR2LINE\": \"/ext/anaconda2021.11/bin/x86_64-conda_cos6-linux-gnu-addr2line\",\n",
    "    \"ANACONDA2021\": \"/ext/anaconda2021.11\",\n",
    "    \"ANACONDA3\": \"$EXT/anaconda3\",\n",
    "    \"ANACONDA5\": \"$EXT/anaconda5\",\n",
    "    \"AR\": \"/ext/anaconda2021.11/bin/x86_64-conda_cos6-linux-gnu-ar\",\n",
    "    \"AS\": \"/ext/anaconda2021.11/bin/x86_64-conda_cos6-linux-gnu-as\",\n",
    "    \"CC\": \"/ext/anaconda2021.11/bin/x86_64-conda_cos6-linux-gnu-cc\",\n",
    "    \"CFLAGS\": \"-march=nocona -mtune=haswell -ftree-vectorize -fPIC -fstack-protector-strong -fno-plt -O2 -ffunction-sections -pipe -isystem /ext/anaconda2021.11/include\",\n",
    "    \"CMAKE_PREFIX_PATH\": \"/ext/anaconda2021.11:/ext/anaconda2021.11/x86_64-conda_cos6-linux-gnu/sysroot/usr\",\n",
    "    \"CONDA_BACKUP_HOST\": \"x86_64-conda_cos6-linux-gnu\",\n",
    "    \"CONDA_BUILD_SYSROOT\": \"/ext/anaconda2021.11/x86_64-conda_cos6-linux-gnu/sysroot\",\n",
    "    \"CONDA_DEFAULT_ENV\": \"base\",\n",
    "    \"CONDA_EXE\": \"/ext/anaconda2021.11/bin/conda\",\n",
    "    \"CONDA_MKL_INTERFACE_LAYER_BACKUP\": \"\",\n",
    "    \"CONDA_PREFIX\": \"/ext/anaconda2021.11\",\n",
    "    \"CONDA_PROMPT_MODIFIER\": \"(base) \",\n",
    "    \"CONDA_PYTHON_EXE\": \"/ext/anaconda2021.11/bin/python\",\n",
    "    \"CONDA_SHLVL\": \"1\",\n",
    "    \"CPP\": \"/ext/anaconda2021.11/bin/x86_64-conda_cos6-linux-gnu-cpp\",\n",
    "    \"CPPFLAGS\": \"-DNDEBUG -D_FORTIFY_SOURCE=2 -O2 -isystem /ext/anaconda2021.11/include\",\n",
    "    \"CXX\": \"/ext/anaconda2021.11/bin/x86_64-conda_cos6-linux-gnu-c++\",\n",
    "    \"CXXFILT\": \"/ext/anaconda2021.11/bin/x86_64-conda_cos6-linux-gnu-c++filt\",\n",
    "    \"CXXFLAGS\": \"-fvisibility-inlines-hidden -std=c++17 -fmessage-length=0 -march=nocona -mtune=haswell -ftree-vectorize -fPIC -fstack-protector-strong -fno-plt -O2 -ffunction-sections -pipe -isystem /ext/anaconda2021.11/include\",\n",
    "    \"DEBUG_CFLAGS\": \"-march=nocona -mtune=haswell -ftree-vectorize -fPIC -fstack-protector-all -fno-plt -Og -g -Wall -Wextra -fvar-tracking-assignments -ffunction-sections -pipe -isystem /ext/anaconda2021.11/include\",\n",
    "    \"DEBUG_CPPFLAGS\": \"-D_DEBUG -D_FORTIFY_SOURCE=2 -Og -isystem /ext/anaconda2021.11/include\",\n",
    "    \"DEBUG_CXXFLAGS\": \"-fvisibility-inlines-hidden -std=c++17 -fmessage-length=0 -march=nocona -mtune=haswell -ftree-vectorize -fPIC -fstack-protector-all -fno-plt -Og -g -Wall -Wextra -fvar-tracking-assignments -ffunction-sections -pipe -isystem /ext/anaconda2021.11/include\",\n",
    "    \"DEBUG_FFLAGS\": \"-fopenmp -march=nocona -mtune=haswell -ftree-vectorize -fPIC -fstack-protector-strong -fno-plt -O2 -ffunction-sections -pipe -isystem /ext/anaconda2021.11/include -fopenmp -march=nocona -mtune=haswell -ftree-vectorize -fPIC -fstack-protector-all -fno-plt -Og -g -Wall -Wextra -fcheck=all -fbacktrace -fimplicit-none -fvar-tracking-assignments -ffunction-sections -pipe\",\n",
    "    \"DEBUG_FORTRANFLAGS\": \"-fopenmp -march=nocona -mtune=haswell -ftree-vectorize -fPIC -fstack-protector-strong -fno-plt -O2 -ffunction-sections -pipe -isystem /ext/anaconda2021.11/include -fopenmp -march=nocona -mtune=haswell -ftree-vectorize -fPIC -fstack-protector-all -fno-plt -Og -g -Wall -Wextra -fcheck=all -fbacktrace -fimplicit-none -fvar-tracking-assignments -ffunction-sections -pipe\",\n",
    "    \"ELFEDIT\": \"/ext/anaconda2021.11/bin/x86_64-conda_cos6-linux-gnu-elfedit\",\n",
    "    \"F77\": \"/ext/anaconda2021.11/bin/x86_64-conda_cos6-linux-gnu-gfortran\",\n",
    "    \"F90\": \"/ext/anaconda2021.11/bin/x86_64-conda_cos6-linux-gnu-gfortran\",\n",
    "    \"F95\": \"/ext/anaconda2021.11/bin/x86_64-conda_cos6-linux-gnu-f95\",\n",
    "    \"FC\": \"/ext/anaconda2021.11/bin/x86_64-conda_cos6-linux-gnu-gfortran\",\n",
    "    \"FFLAGS\": \"-fopenmp -march=nocona -mtune=haswell -ftree-vectorize -fPIC -fstack-protector-strong -fno-plt -O2 -ffunction-sections -pipe -isystem /ext/anaconda2021.11/include\",\n",
    "    \"FORTRANFLAGS\": \"-fopenmp -march=nocona -mtune=haswell -ftree-vectorize -fPIC -fstack-protector-strong -fno-plt -O2 -ffunction-sections -pipe -isystem /ext/anaconda2021.11/include\",\n",
    "    \"GCC\": \"/ext/anaconda2021.11/bin/x86_64-conda_cos6-linux-gnu-gcc\",\n",
    "    \"GCC_AR\": \"/ext/anaconda2021.11/bin/x86_64-conda_cos6-linux-gnu-gcc-ar\",\n",
    "    \"GCC_NM\": \"/ext/anaconda2021.11/bin/x86_64-conda_cos6-linux-gnu-gcc-nm\",\n",
    "    \"GCC_RANLIB\": \"/ext/anaconda2021.11/bin/x86_64-conda_cos6-linux-gnu-gcc-ranlib\",\n",
    "    \"GDAL_DATA\": \"/ext/anaconda2021.11/share/gdal\",\n",
    "    \"GFORTRAN\": \"/ext/anaconda2021.11/bin/x86_64-conda_cos6-linux-gnu-gfortran\",\n",
    "    \"GPROF\": \"/ext/anaconda2021.11/bin/x86_64-conda_cos6-linux-gnu-gprof\",\n",
    "    \"GXX\": \"/ext/anaconda2021.11/bin/x86_64-conda_cos6-linux-gnu-g++\",\n",
    "    \"JAVA_HOME\": \"/ext/anaconda2021.11\",\n",
    "    \"JAVA_HOME_CONDA_BACKUP\": \"\",\n",
    "    \"JAVA_LD_LIBRARY_PATH\": \"/ext/anaconda2021.11/lib/server\",\n",
    "    \"LD\": \"/ext/anaconda2021.11/bin/x86_64-conda_cos6-linux-gnu-ld\",\n",
    "    \"LDFLAGS\": \"-Wl,-O2 -Wl,--sort-common -Wl,--as-needed -Wl,-z,relro -Wl,-z,now -Wl,--disable-new-dtags -Wl,--gc-sections -Wl,-rpath,/ext/anaconda2021.11/lib -Wl,-rpath-link,/ext/anaconda2021.11/lib -L/ext/anaconda2021.11/lib\",\n",
    "    \"LD_GOLD\": \"/ext/anaconda2021.11/bin/x86_64-conda_cos6-linux-gnu-ld.gold\",\n",
    "    \"LD_LIBRARY_PATH\": \"/ext/anaconda2021.11/lib\",\n",
    "    \"MKL_INTERFACE_LAYER\": \"LP64,GNU\",\n",
    "    \"MKL_THREADING_LAYER\": \"GNU\",\n",
    "    \"NM\": \"/ext/anaconda2021.11/bin/x86_64-conda_cos6-linux-gnu-nm\",\n",
    "    \"OBJCOPY\": \"/ext/anaconda2021.11/bin/x86_64-conda_cos6-linux-gnu-objcopy\",\n",
    "    \"OBJDUMP\": \"/ext/anaconda2021.11/bin/x86_64-conda_cos6-linux-gnu-objdump\",\n",
    "    \"OLDPWD\": \"/ext/anaconda2021.11\",\n",
    "    \"PATH\": \"/ext/anaconda2021.11/bin:/ext/anaconda2021.11/bin:/ext/anaconda2021.11/condabin:/cocalc/bin:/cocalc/src/smc-project/bin:/home/salvus/bin:/home/salvus/.local/bin:/usr/lib/xpra:/ext/bin:/opt/ghc/bin:/usr/local/sbin:/usr/local/bin:/usr/sbin:/usr/bin:/sbin:/bin:/snap/bin:/usr/lib/postgresql/10/bin:/ext/data/homer/bin:/ext/data/weblogo\",\n",
    "    \"PROJ_LIB\": \"/ext/anaconda2021.11/share/proj\",\n",
    "    \"RANLIB\": \"/ext/anaconda2021.11/bin/x86_64-conda_cos6-linux-gnu-ranlib\",\n",
    "    \"READELF\": \"/ext/anaconda2021.11/bin/x86_64-conda_cos6-linux-gnu-readelf\",\n",
    "    \"RSTUDIO_WHICH_R\": \"/ext/anaconda2021.11/bin/R\",\n",
    "    \"SIZE\": \"/ext/anaconda2021.11/bin/x86_64-conda_cos6-linux-gnu-size\",\n",
    "    \"STRINGS\": \"/ext/anaconda2021.11/bin/x86_64-conda_cos6-linux-gnu-strings\",\n",
    "    \"STRIP\": \"/ext/anaconda2021.11/bin/x86_64-conda_cos6-linux-gnu-strip\",\n",
    "    \"_CE_CONDA\": \"\",\n",
    "    \"_CE_M\": \"\",\n",
    "    \"_CONDA_PYTHON_SYSCONFIGDATA_NAME\": \"_sysconfigdata_x86_64_conda_cos6_linux_gnu\"\n",
    "   },\n",
    "   \"language\": \"python\",\n",
    "   \"metadata\": {\n",
    "    \"cocalc\": {\n",
    "     \"description\": \"Anaconda 2021.11 Python 3 environment\",\n",
    "     \"priority\": 10,\n",
    "     \"url\": \"https://www.anaconda.com/distribution/\"\n",
    "    }\n",
    "   },\n",
    "   \"name\": \"anaconda2021\",\n",
    "   \"resource_dir\": \"/ext/jupyter/kernels/anaconda2021\"\n",
    "  },\n",
    "  \"language_info\": {\n",
    "   \"codemirror_mode\": {\n",
    "    \"name\": \"ipython\",\n",
    "    \"version\": 3\n",
    "   },\n",
    "   \"file_extension\": \".py\",\n",
    "   \"mimetype\": \"text/x-python\",\n",
    "   \"name\": \"python\",\n",
    "   \"nbconvert_exporter\": \"python\",\n",
    "   \"pygments_lexer\": \"ipython3\",\n",
    "   \"version\": \"3.9.7\"\n",
    "  }\n",
    " },\n",
    " \"nbformat\": 4,\n",
    " \"nbformat_minor\": 4\n",
    "}\n",
    " print(\"you can enter\" )\n",
    "elif age == 18:\n",
    " print(\"go see Pink Floyd\")\n",
    "else:\n",
    " print(\"go see Meat Loaf\" )\n",
    "\n",
    "print(\"move on\")"
   ]
  },
  {
   "cell_type": "code",
   "execution_count": 6,
   "metadata": {
    "collapsed": false
   },
   "outputs": [
    {
     "name": "stdout",
     "output_type": "stream",
     "text": [
      "Album was not made in the 1980's\n"
     ]
    }
   ],
   "source": [
    "album_year = 2005\n",
    "if(album_year < 2001) or (album_year > 1989):\n",
    " print (\"Album was not made in the 1980's\")\n",
    "else:\n",
    " print(\"The Album was made in the 1980's \")"
   ]
  },
  {
   "cell_type": "code",
   "execution_count": 15,
   "metadata": {
    "collapsed": false
   },
   "outputs": [
    {
     "name": "stdout",
     "output_type": "stream",
     "text": [
      "Album year is greater than 1980\n",
      "do something..\n"
     ]
    }
   ],
   "source": [
    "album_year = 2000\n",
    "if album_year > 1998:\n",
    " print(\"Album year is greater than 1980\")\n",
    "else:\n",
    " print(\"less than 1980\")\n",
    "print('do something..')"
   ]
  },
  {
   "cell_type": "code",
   "execution_count": 7,
   "metadata": {
    "collapsed": false
   },
   "outputs": [
    {
     "name": "stdout",
     "output_type": "stream",
     "text": [
      "\n",
      "Do Stuff..\n"
     ]
    }
   ],
   "source": [
    "album_year = 1999\n",
    "if(album_year > 1979) and (album_year < 1990):\n",
    " print (\"Album year was in between 1980 and 1989\")\n",
    "\n",
    "print(\"\")\n",
    "print(\"Do Stuff..\")\n"
   ]
  },
  {
   "cell_type": "code",
   "execution_count": 8,
   "metadata": {
    "collapsed": false
   },
   "outputs": [
    {
     "data": {
      "text/plain": [
       "range(0, 6)"
      ]
     },
     "execution_count": 8,
     "metadata": {
     },
     "output_type": "execute_result"
    }
   ],
   "source": [
    "range(6)"
   ]
  },
  {
   "cell_type": "code",
   "execution_count": 9,
   "metadata": {
    "collapsed": false
   },
   "outputs": [
    {
     "name": "stdout",
     "output_type": "stream",
     "text": [
      "2000\n",
      "1999\n",
      "1973\n"
     ]
    }
   ],
   "source": [
    "dates = [2000,1999,1973]\n",
    "N = len(dates)\n",
    "for i in range(N):\n",
    " print(dates[i])"
   ]
  },
  {
   "cell_type": "code",
   "execution_count": 10,
   "metadata": {
    "collapsed": false
   },
   "outputs": [
    {
     "name": "stdout",
     "output_type": "stream",
     "text": [
      "0\n",
      "1\n",
      "2\n",
      "3\n",
      "4\n",
      "5\n",
      "6\n",
      "7\n",
      "8\n",
      "9\n"
     ]
    }
   ],
   "source": [
    "for i in range(0, 10):\n",
    " print(i)"
   ]
  },
  {
   "cell_type": "code",
   "execution_count": 11,
   "metadata": {
    "collapsed": false
   },
   "outputs": [
    {
     "name": "stdout",
     "output_type": "stream",
     "text": [
      "Before square  0 is apple\n",
      "After square  0 is white\n",
      "Before square  1 is banana\n",
      "After square  1 is white\n",
      "Before square  2 is fig\n",
      "After square  2 is white\n",
      "Before square  3 is grape\n",
      "After square  3 is white\n",
      "Before square  4 is lime\n",
      "After square  4 is white\n",
      "Before square  5 is lemon\n",
      "After square  5 is white\n",
      "Before square  6 is orange\n",
      "After square  6 is white\n"
     ]
    }
   ],
   "source": [
    "squares = ['apple', 'banana', 'fig', 'grape', 'lime','lemon','orange']\n",
    "for i in range(0, 7):\n",
    " print(\"Before square \", i, 'is', squares[i])\n",
    " squares[i] = 'white'\n",
    " print(\"After square \", i, 'is', squares[i])"
   ]
  },
  {
   "cell_type": "code",
   "execution_count": 12,
   "metadata": {
    "collapsed": false
   },
   "outputs": [
    {
     "name": "stdout",
     "output_type": "stream",
     "text": [
      "10\n",
      "9.5\n"
     ]
    }
   ],
   "source": [
    "PlayListRatings = [10, 9.5, 8, 5, 7.5, 3, 7, 9]\n",
    "i = 0\n",
    "Rating = PlayListRatings[0]\n",
    "while(i < len(PlayListRatings) and Rating >= 10):\n",
    " Rating = PlayListRatings[i]\n",
    " print(Rating)\n",
    " i = i + 1"
   ]
  },
  {
   "cell_type": "code",
   "execution_count": 13,
   "metadata": {
    "collapsed": false
   },
   "outputs": [
    {
     "name": "stdout",
     "output_type": "stream",
     "text": [
      "It took  0 repetitions to get out of loop.\n"
     ]
    }
   ],
   "source": [
    "dates = [2000, 1999, 1998, 1997]\n",
    "i = 0\n",
    "year = dates[0]\n",
    "while(year != 2000):\n",
    " print(year)\n",
    " i = i + 1\n",
    " year = dates[i]\n",
    "\n",
    "print(\"It took \", i ,\"repetitions to get out of loop.\")\n"
   ]
  },
  {
   "cell_type": "code",
   "execution_count": 0,
   "metadata": {
    "collapsed": false
   },
   "outputs": [
   ],
   "source": [
   ]
  },
  {
   "cell_type": "code",
   "execution_count": 0,
   "metadata": {
    "collapsed": false
   },
   "outputs": [
   ],
   "source": [
   ]
  },
  {
   "cell_type": "code",
   "execution_count": 0,
   "metadata": {
    "collapsed": false
   },
   "outputs": [
   ],
   "source": [
   ]
  }
 ],
 "metadata": {
  "kernelspec": {
   "display_name": "Python 3 (Anaconda 2021)",
   "env": {
    "ADDR2LINE": "/ext/anaconda2021.11/bin/x86_64-conda_cos6-linux-gnu-addr2line",
    "ANACONDA2021": "/ext/anaconda2021.11",
    "ANACONDA3": "$EXT/anaconda3",
    "ANACONDA5": "$EXT/anaconda5",
    "AR": "/ext/anaconda2021.11/bin/x86_64-conda_cos6-linux-gnu-ar",
    "AS": "/ext/anaconda2021.11/bin/x86_64-conda_cos6-linux-gnu-as",
    "CC": "/ext/anaconda2021.11/bin/x86_64-conda_cos6-linux-gnu-cc",
    "CFLAGS": "-march=nocona -mtune=haswell -ftree-vectorize -fPIC -fstack-protector-strong -fno-plt -O2 -ffunction-sections -pipe -isystem /ext/anaconda2021.11/include",
    "CMAKE_PREFIX_PATH": "/ext/anaconda2021.11:/ext/anaconda2021.11/x86_64-conda_cos6-linux-gnu/sysroot/usr",
    "CONDA_BACKUP_HOST": "x86_64-conda_cos6-linux-gnu",
    "CONDA_BUILD_SYSROOT": "/ext/anaconda2021.11/x86_64-conda_cos6-linux-gnu/sysroot",
    "CONDA_DEFAULT_ENV": "base",
    "CONDA_EXE": "/ext/anaconda2021.11/bin/conda",
    "CONDA_MKL_INTERFACE_LAYER_BACKUP": "",
    "CONDA_PREFIX": "/ext/anaconda2021.11",
    "CONDA_PROMPT_MODIFIER": "(base) ",
    "CONDA_PYTHON_EXE": "/ext/anaconda2021.11/bin/python",
    "CONDA_SHLVL": "1",
    "CPP": "/ext/anaconda2021.11/bin/x86_64-conda_cos6-linux-gnu-cpp",
    "CPPFLAGS": "-DNDEBUG -D_FORTIFY_SOURCE=2 -O2 -isystem /ext/anaconda2021.11/include",
    "CXX": "/ext/anaconda2021.11/bin/x86_64-conda_cos6-linux-gnu-c++",
    "CXXFILT": "/ext/anaconda2021.11/bin/x86_64-conda_cos6-linux-gnu-c++filt",
    "CXXFLAGS": "-fvisibility-inlines-hidden -std=c++17 -fmessage-length=0 -march=nocona -mtune=haswell -ftree-vectorize -fPIC -fstack-protector-strong -fno-plt -O2 -ffunction-sections -pipe -isystem /ext/anaconda2021.11/include",
    "DEBUG_CFLAGS": "-march=nocona -mtune=haswell -ftree-vectorize -fPIC -fstack-protector-all -fno-plt -Og -g -Wall -Wextra -fvar-tracking-assignments -ffunction-sections -pipe -isystem /ext/anaconda2021.11/include",
    "DEBUG_CPPFLAGS": "-D_DEBUG -D_FORTIFY_SOURCE=2 -Og -isystem /ext/anaconda2021.11/include",
    "DEBUG_CXXFLAGS": "-fvisibility-inlines-hidden -std=c++17 -fmessage-length=0 -march=nocona -mtune=haswell -ftree-vectorize -fPIC -fstack-protector-all -fno-plt -Og -g -Wall -Wextra -fvar-tracking-assignments -ffunction-sections -pipe -isystem /ext/anaconda2021.11/include",
    "DEBUG_FFLAGS": "-fopenmp -march=nocona -mtune=haswell -ftree-vectorize -fPIC -fstack-protector-strong -fno-plt -O2 -ffunction-sections -pipe -isystem /ext/anaconda2021.11/include -fopenmp -march=nocona -mtune=haswell -ftree-vectorize -fPIC -fstack-protector-all -fno-plt -Og -g -Wall -Wextra -fcheck=all -fbacktrace -fimplicit-none -fvar-tracking-assignments -ffunction-sections -pipe",
    "DEBUG_FORTRANFLAGS": "-fopenmp -march=nocona -mtune=haswell -ftree-vectorize -fPIC -fstack-protector-strong -fno-plt -O2 -ffunction-sections -pipe -isystem /ext/anaconda2021.11/include -fopenmp -march=nocona -mtune=haswell -ftree-vectorize -fPIC -fstack-protector-all -fno-plt -Og -g -Wall -Wextra -fcheck=all -fbacktrace -fimplicit-none -fvar-tracking-assignments -ffunction-sections -pipe",
    "ELFEDIT": "/ext/anaconda2021.11/bin/x86_64-conda_cos6-linux-gnu-elfedit",
    "F77": "/ext/anaconda2021.11/bin/x86_64-conda_cos6-linux-gnu-gfortran",
    "F90": "/ext/anaconda2021.11/bin/x86_64-conda_cos6-linux-gnu-gfortran",
    "F95": "/ext/anaconda2021.11/bin/x86_64-conda_cos6-linux-gnu-f95",
    "FC": "/ext/anaconda2021.11/bin/x86_64-conda_cos6-linux-gnu-gfortran",
    "FFLAGS": "-fopenmp -march=nocona -mtune=haswell -ftree-vectorize -fPIC -fstack-protector-strong -fno-plt -O2 -ffunction-sections -pipe -isystem /ext/anaconda2021.11/include",
    "FORTRANFLAGS": "-fopenmp -march=nocona -mtune=haswell -ftree-vectorize -fPIC -fstack-protector-strong -fno-plt -O2 -ffunction-sections -pipe -isystem /ext/anaconda2021.11/include",
    "GCC": "/ext/anaconda2021.11/bin/x86_64-conda_cos6-linux-gnu-gcc",
    "GCC_AR": "/ext/anaconda2021.11/bin/x86_64-conda_cos6-linux-gnu-gcc-ar",
    "GCC_NM": "/ext/anaconda2021.11/bin/x86_64-conda_cos6-linux-gnu-gcc-nm",
    "GCC_RANLIB": "/ext/anaconda2021.11/bin/x86_64-conda_cos6-linux-gnu-gcc-ranlib",
    "GDAL_DATA": "/ext/anaconda2021.11/share/gdal",
    "GFORTRAN": "/ext/anaconda2021.11/bin/x86_64-conda_cos6-linux-gnu-gfortran",
    "GPROF": "/ext/anaconda2021.11/bin/x86_64-conda_cos6-linux-gnu-gprof",
    "GXX": "/ext/anaconda2021.11/bin/x86_64-conda_cos6-linux-gnu-g++",
    "JAVA_HOME": "/ext/anaconda2021.11",
    "JAVA_HOME_CONDA_BACKUP": "",
    "JAVA_LD_LIBRARY_PATH": "/ext/anaconda2021.11/lib/server",
    "LD": "/ext/anaconda2021.11/bin/x86_64-conda_cos6-linux-gnu-ld",
    "LDFLAGS": "-Wl,-O2 -Wl,--sort-common -Wl,--as-needed -Wl,-z,relro -Wl,-z,now -Wl,--disable-new-dtags -Wl,--gc-sections -Wl,-rpath,/ext/anaconda2021.11/lib -Wl,-rpath-link,/ext/anaconda2021.11/lib -L/ext/anaconda2021.11/lib",
    "LD_GOLD": "/ext/anaconda2021.11/bin/x86_64-conda_cos6-linux-gnu-ld.gold",
    "LD_LIBRARY_PATH": "/ext/anaconda2021.11/lib",
    "MKL_INTERFACE_LAYER": "LP64,GNU",
    "MKL_THREADING_LAYER": "GNU",
    "NM": "/ext/anaconda2021.11/bin/x86_64-conda_cos6-linux-gnu-nm",
    "OBJCOPY": "/ext/anaconda2021.11/bin/x86_64-conda_cos6-linux-gnu-objcopy",
    "OBJDUMP": "/ext/anaconda2021.11/bin/x86_64-conda_cos6-linux-gnu-objdump",
    "OLDPWD": "/ext/anaconda2021.11",
    "PATH": "/ext/anaconda2021.11/bin:/ext/anaconda2021.11/bin:/ext/anaconda2021.11/condabin:/cocalc/bin:/cocalc/src/smc-project/bin:/home/salvus/bin:/home/salvus/.local/bin:/usr/lib/xpra:/ext/bin:/opt/ghc/bin:/usr/local/sbin:/usr/local/bin:/usr/sbin:/usr/bin:/sbin:/bin:/snap/bin:/usr/lib/postgresql/10/bin:/ext/data/homer/bin:/ext/data/weblogo",
    "PROJ_LIB": "/ext/anaconda2021.11/share/proj",
    "RANLIB": "/ext/anaconda2021.11/bin/x86_64-conda_cos6-linux-gnu-ranlib",
    "READELF": "/ext/anaconda2021.11/bin/x86_64-conda_cos6-linux-gnu-readelf",
    "RSTUDIO_WHICH_R": "/ext/anaconda2021.11/bin/R",
    "SIZE": "/ext/anaconda2021.11/bin/x86_64-conda_cos6-linux-gnu-size",
    "STRINGS": "/ext/anaconda2021.11/bin/x86_64-conda_cos6-linux-gnu-strings",
    "STRIP": "/ext/anaconda2021.11/bin/x86_64-conda_cos6-linux-gnu-strip",
    "_CE_CONDA": "",
    "_CE_M": "",
    "_CONDA_PYTHON_SYSCONFIGDATA_NAME": "_sysconfigdata_x86_64_conda_cos6_linux_gnu"
   },
   "language": "python",
   "metadata": {
    "cocalc": {
     "description": "Anaconda 2021.11 Python 3 environment",
     "priority": 10,
     "url": "https://www.anaconda.com/distribution/"
    }
   },
   "name": "anaconda2021",
   "resource_dir": "/ext/jupyter/kernels/anaconda2021"
  },
  "language_info": {
   "codemirror_mode": {
    "name": "ipython",
    "version": 3
   },
   "file_extension": ".py",
   "mimetype": "text/x-python",
   "name": "python",
   "nbconvert_exporter": "python",
   "pygments_lexer": "ipython3",
   "version": "3.9.7"
  }
 },
 "nbformat": 4,
 "nbformat_minor": 4
}
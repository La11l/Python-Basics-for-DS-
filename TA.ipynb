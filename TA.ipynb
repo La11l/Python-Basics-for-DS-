{
 "cells": [
  {
   "cell_type": "code",
   "execution_count": 1,
   "id": "df6b7bdc",
   "metadata": {},
   "outputs": [
    {
     "data": {
      "text/plain": [
       "('Taif', 20, 4.2)"
      ]
     },
     "execution_count": 1,
     "metadata": {},
     "output_type": "execute_result"
    }
   ],
   "source": [
    "tuple1 = (\"Taif\",20,4.2 )\n",
    "tuple1"
   ]
  },
  {
   "cell_type": "code",
   "execution_count": 2,
   "id": "849a4375",
   "metadata": {},
   "outputs": [
    {
     "data": {
      "text/plain": [
       "tuple"
      ]
     },
     "execution_count": 2,
     "metadata": {},
     "output_type": "execute_result"
    }
   ],
   "source": [
    "type(tuple1)"
   ]
  },
  {
   "cell_type": "code",
   "execution_count": 3,
   "id": "a57f01e4",
   "metadata": {},
   "outputs": [
    {
     "name": "stdout",
     "output_type": "stream",
     "text": [
      "Taif\n",
      "20\n",
      "4.2\n"
     ]
    }
   ],
   "source": [
    "print(tuple1[0])\n",
    "print(tuple1[1])\n",
    "print(tuple1[2])\n"
   ]
  },
  {
   "cell_type": "code",
   "execution_count": 4,
   "id": "694e7764",
   "metadata": {},
   "outputs": [
    {
     "data": {
      "text/plain": [
       "('Taif', 20, 4.2, 'Red', 80)"
      ]
     },
     "execution_count": 4,
     "metadata": {},
     "output_type": "execute_result"
    }
   ],
   "source": [
    "tuple2 = tuple1 + (\"Red\", 80)\n",
    "tuple2\n"
   ]
  },
  {
   "cell_type": "code",
   "execution_count": 5,
   "id": "269c7fcd",
   "metadata": {},
   "outputs": [
    {
     "data": {
      "text/plain": [
       "('Taif', 20)"
      ]
     },
     "execution_count": 5,
     "metadata": {},
     "output_type": "execute_result"
    }
   ],
   "source": [
    "tuple2[0:2]"
   ]
  },
  {
   "cell_type": "code",
   "execution_count": 6,
   "id": "8e66c20b",
   "metadata": {},
   "outputs": [
    {
     "data": {
      "text/plain": [
       "5"
      ]
     },
     "execution_count": 6,
     "metadata": {},
     "output_type": "execute_result"
    }
   ],
   "source": [
    "len(tuple2)"
   ]
  },
  {
   "cell_type": "code",
   "execution_count": 7,
   "id": "47d3a45c",
   "metadata": {},
   "outputs": [],
   "source": [
    "NestedT =(3, 8, (\"Black\", \"red\") ,(8,4),(\"dis\",(6,2)))"
   ]
  },
  {
   "cell_type": "code",
   "execution_count": 8,
   "id": "03584fa2",
   "metadata": {},
   "outputs": [
    {
     "name": "stdout",
     "output_type": "stream",
     "text": [
      "Element 0 of Tuple:  3\n",
      "Element 1 of Tuple:  8\n",
      "Element 2 of Tuple:  ('Black', 'red')\n",
      "Element 3 of Tuple:  (8, 4)\n",
      "Element 4 of Tuple:  ('dis', (6, 2))\n"
     ]
    }
   ],
   "source": [
    "print(\"Element 0 of Tuple: \", NestedT[0])\n",
    "print(\"Element 1 of Tuple: \", NestedT[1])\n",
    "print(\"Element 2 of Tuple: \", NestedT[2])\n",
    "print(\"Element 3 of Tuple: \", NestedT[3])\n",
    "print(\"Element 4 of Tuple: \", NestedT[4])"
   ]
  },
  {
   "cell_type": "code",
   "execution_count": 9,
   "id": "fdcb0eb0",
   "metadata": {},
   "outputs": [
    {
     "data": {
      "text/plain": [
       "'r'"
      ]
     },
     "execution_count": 9,
     "metadata": {},
     "output_type": "execute_result"
    }
   ],
   "source": [
    "NestedT[2][1][0]\n"
   ]
  },
  {
   "cell_type": "code",
   "execution_count": 10,
   "id": "f0b952a7",
   "metadata": {},
   "outputs": [
    {
     "data": {
      "text/plain": [
       "['Taif Ahmad', 11.1, 1444]"
      ]
     },
     "execution_count": 10,
     "metadata": {},
     "output_type": "execute_result"
    }
   ],
   "source": [
    "L = [\"Taif Ahmad\", 11.1, 1444]\n",
    "L"
   ]
  },
  {
   "cell_type": "code",
   "execution_count": 12,
   "id": "15d6a70d",
   "metadata": {},
   "outputs": [
    {
     "name": "stdout",
     "output_type": "stream",
     "text": [
      "the same element using negative and positive indexing:\n",
      " Postive: Taif Ahmad \n",
      " Negative: Taif Ahmad\n",
      "the same element using negative and positive indexing:\n",
      " Postive: 11.1 \n",
      " Negative: 11.1\n",
      "the same element using negative and positive indexing:\n",
      " Postive: 1444 \n",
      " Negative: 1444\n"
     ]
    }
   ],
   "source": [
    "print('the same element using negative and positive indexing:\\n Postive:',L[0],\n",
    "'\\n Negative:' , L[-3] )\n",
    "print('the same element using negative and positive indexing:\\n Postive:',L[1],\n",
    "'\\n Negative:' , L[-2] )\n",
    "print('the same element using negative and positive indexing:\\n Postive:',L[2],\n",
    "'\\n Negative:' , L[-1] )\n"
   ]
  },
  {
   "cell_type": "code",
   "execution_count": 13,
   "id": "91ae4389",
   "metadata": {},
   "outputs": [
    {
     "data": {
      "text/plain": [
       "['Taif Ahmad', 11.1, 1444, 'MJ', 1]"
      ]
     },
     "execution_count": 13,
     "metadata": {},
     "output_type": "execute_result"
    }
   ],
   "source": [
    "L = [\"Taif Ahmad\", 11.1,1444,\"MJ\",1]\n",
    "L\n"
   ]
  },
  {
   "cell_type": "code",
   "execution_count": 14,
   "id": "a1014c74",
   "metadata": {},
   "outputs": [
    {
     "data": {
      "text/plain": [
       "['MJ', 1]"
      ]
     },
     "execution_count": 14,
     "metadata": {},
     "output_type": "execute_result"
    }
   ],
   "source": [
    "L[3:5]"
   ]
  },
  {
   "cell_type": "code",
   "execution_count": 15,
   "id": "d56f3b11",
   "metadata": {},
   "outputs": [
    {
     "name": "stdout",
     "output_type": "stream",
     "text": [
      "Before change: ['Red', 80, 1.2]\n",
      "After change: ['hard rock', 80, 1.2]\n"
     ]
    }
   ],
   "source": [
    "A = [\"Red\", 80, 1.2]\n",
    "print('Before change:', A)\n",
    "A[0] = 'hard rock'\n",
    "print('After change:', A)\n"
   ]
  }
 ],
 "metadata": {
  "kernelspec": {
   "display_name": "Python 3 (ipykernel)",
   "language": "python",
   "name": "python3"
  },
  "language_info": {
   "codemirror_mode": {
    "name": "ipython",
    "version": 3
   },
   "file_extension": ".py",
   "mimetype": "text/x-python",
   "name": "python",
   "nbconvert_exporter": "python",
   "pygments_lexer": "ipython3",
   "version": "3.9.12"
  }
 },
 "nbformat": 4,
 "nbformat_minor": 5
}
